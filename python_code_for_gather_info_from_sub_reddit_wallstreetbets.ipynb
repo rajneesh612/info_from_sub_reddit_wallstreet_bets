{
 "cells": [
  {
   "cell_type": "code",
   "execution_count": 1,
   "metadata": {},
   "outputs": [
    {
     "name": "stdout",
     "output_type": "stream",
     "text": [
      "Collecting psawNote: you may need to restart the kernel to use updated packages.\n",
      "  Downloading psaw-0.1.0-py3-none-any.whl (15 kB)\n",
      "Requirement already satisfied: Click in c:\\users\\rajneesh\\anaconda3\\lib\\site-packages (from psaw) (7.1.2)\n",
      "Requirement already satisfied: requests in c:\\users\\rajneesh\\anaconda3\\lib\\site-packages (from psaw) (2.24.0)\n",
      "Requirement already satisfied: certifi>=2017.4.17 in c:\\users\\rajneesh\\anaconda3\\lib\\site-packages (from requests->psaw) (2020.6.20)\n",
      "Requirement already satisfied: chardet<4,>=3.0.2 in c:\\users\\rajneesh\\anaconda3\\lib\\site-packages (from requests->psaw) (3.0.4)\n",
      "Requirement already satisfied: idna<3,>=2.5 in c:\\users\\rajneesh\\anaconda3\\lib\\site-packages (from requests->psaw) (2.10)\n",
      "Requirement already satisfied: urllib3!=1.25.0,!=1.25.1,<1.26,>=1.21.1 in c:\\users\\rajneesh\\anaconda3\\lib\\site-packages (from requests->psaw) (1.25.9)\n",
      "Installing collected packages: psaw\n",
      "Successfully installed psaw-0.1.0\n",
      "\n"
     ]
    }
   ],
   "source": [
    "pip install psaw"
   ]
  },
  {
   "cell_type": "code",
   "execution_count": 2,
   "metadata": {},
   "outputs": [],
   "source": [
    "from psaw import PushshiftAPI\n",
    "\n",
    "api = PushshiftAPI()"
   ]
  },
  {
   "cell_type": "code",
   "execution_count": 3,
   "metadata": {},
   "outputs": [
    {
     "name": "stderr",
     "output_type": "stream",
     "text": [
      "C:\\Users\\Rajneesh\\anaconda3\\lib\\site-packages\\psaw\\PushshiftAPI.py:252: UserWarning: Not all PushShift shards are active. Query results may be incomplete\n",
      "  warnings.warn(shards_down_message)\n"
     ]
    },
    {
     "data": {
      "text/plain": [
       "[submission(author='AceCombat9519', created_utc=1612083561, subreddit='politics', title='COVID relief, Senate Republicans, civil unrest addressed by Sen. Elizabeth Warren', url='https://www.msnbc.com/cross-connection/watch/covid-relief-senate-republicans-civil-unrest-addressed-by-sen-elizabeth-warren-100281413614', created=1612063761.0, d_={'author': 'AceCombat9519', 'created_utc': 1612083561, 'subreddit': 'politics', 'title': 'COVID relief, Senate Republicans, civil unrest addressed by Sen. Elizabeth Warren', 'url': 'https://www.msnbc.com/cross-connection/watch/covid-relief-senate-republicans-civil-unrest-addressed-by-sen-elizabeth-warren-100281413614', 'created': 1612063761.0}),\n",
       " submission(author='EnoughBorder1835', created_utc=1612083328, subreddit='politics', title=\"Something went wrong. Just don't panic.\", url='https://cpavox.com/track/0466051fe27', created=1612063528.0, d_={'author': 'EnoughBorder1835', 'created_utc': 1612083328, 'subreddit': 'politics', 'title': \"Something went wrong. Just don't panic.\", 'url': 'https://cpavox.com/track/0466051fe27', 'created': 1612063528.0}),\n",
       " submission(author='monirkhank', created_utc=1612083227, subreddit='politics', title=\"First on CNN: Trump's impeachment defense team leaves less than two weeks before trial\", url='https://edition.cnn.com/2021/01/30/politics/butch-bowers-deborah-barbier-trump-impeachment-team/index.html', created=1612063427.0, d_={'author': 'monirkhank', 'created_utc': 1612083227, 'subreddit': 'politics', 'title': \"First on CNN: Trump's impeachment defense team leaves less than two weeks before trial\", 'url': 'https://edition.cnn.com/2021/01/30/politics/butch-bowers-deborah-barbier-trump-impeachment-team/index.html', 'created': 1612063427.0}),\n",
       " submission(author='Eagle1775', created_utc=1612083021, subreddit='politics', title='Why we need to rethink our government', url='https://www.youtube.com/watch?v=D-U2rOHIv94', created=1612063221.0, d_={'author': 'Eagle1775', 'created_utc': 1612083021, 'subreddit': 'politics', 'title': 'Why we need to rethink our government', 'url': 'https://www.youtube.com/watch?v=D-U2rOHIv94', 'created': 1612063221.0}),\n",
       " submission(author='a_fuller', created_utc=1612082929, subreddit='politics', title='Trump leaves office facing mounting debt, devalued assets and scarcity of willing lenders', url='https://www.youtube.com/watch?v=NTNQUOOznGg', created=1612063129.0, d_={'author': 'a_fuller', 'created_utc': 1612082929, 'subreddit': 'politics', 'title': 'Trump leaves office facing mounting debt, devalued assets and scarcity of willing lenders', 'url': 'https://www.youtube.com/watch?v=NTNQUOOznGg', 'created': 1612063129.0}),\n",
       " submission(author='yaxxxi', created_utc=1612082873, subreddit='politics', title='Lincoln Project says it will sue Rudy Giuliani over Capitol riot claims', url='https://www.independent.co.uk/news/world/americas/us-politics/lincoln-project-rudy-giuliani-sue-capitol-riots-b1795215.html', created=1612063073.0, d_={'author': 'yaxxxi', 'created_utc': 1612082873, 'subreddit': 'politics', 'title': 'Lincoln Project says it will sue Rudy Giuliani over Capitol riot claims', 'url': 'https://www.independent.co.uk/news/world/americas/us-politics/lincoln-project-rudy-giuliani-sue-capitol-riots-b1795215.html', 'created': 1612063073.0}),\n",
       " submission(author='abast6', created_utc=1612082854, subreddit='politics', title='Look what I have found here', url='http://www.wallstreetbetsfashion.com', created=1612063054.0, d_={'author': 'abast6', 'created_utc': 1612082854, 'subreddit': 'politics', 'title': 'Look what I have found here', 'url': 'http://www.wallstreetbetsfashion.com', 'created': 1612063054.0}),\n",
       " submission(author='NoBus4389', created_utc=1612082564, subreddit='politics', title='Prediction of Mr. Anderson about Saint Rampal Ji Maharaj A religious rural Indian, preparing a constitution on the principles of one human race, one language and one flag, would give the lesson of morality, generosity, service to mankind.', url='https://youtu.be/VNtvODuuCwc', created=1612062764.0, d_={'author': 'NoBus4389', 'created_utc': 1612082564, 'subreddit': 'politics', 'title': 'Prediction of Mr. Anderson about Saint Rampal Ji Maharaj A religious rural Indian, preparing a constitution on the principles of one human race, one language and one flag, would give the lesson of morality, generosity, service to mankind.', 'url': 'https://youtu.be/VNtvODuuCwc', 'created': 1612062764.0}),\n",
       " submission(author='Beneficial-Jump-3877', created_utc=1612081269, subreddit='politics', title='A California University Tries to Shield an Entire City From Coronavirus', url='https://www.nytimes.com/2021/01/30/us/college-coronavirus-california.html?smid=re-share', created=1612061469.0, d_={'author': 'Beneficial-Jump-3877', 'created_utc': 1612081269, 'subreddit': 'politics', 'title': 'A California University Tries to Shield an Entire City From Coronavirus', 'url': 'https://www.nytimes.com/2021/01/30/us/college-coronavirus-california.html?smid=re-share', 'created': 1612061469.0}),\n",
       " submission(author='beta6nine9', created_utc=1612081173, subreddit='politics', title='DOJ Arrest Reports Reveal Capitol Riot Was Planned Almost Exclusively On Facebook, Twitter and YouTube, Yet Parler Was Shut Down Anyway - ANTIFA/BLM involved - not \"Trump Supporters\"', url='https://en-volve.com/2021/01/29/doj-arrest-reports-reveal-capitol-riot-was-planned-almost-exclusively-on-facebook-twitter-and-youtube-yet-parler-was-shut-down-anyway/', created=1612061373.0, d_={'author': 'beta6nine9', 'created_utc': 1612081173, 'subreddit': 'politics', 'title': 'DOJ Arrest Reports Reveal Capitol Riot Was Planned Almost Exclusively On Facebook, Twitter and YouTube, Yet Parler Was Shut Down Anyway - ANTIFA/BLM involved - not \"Trump Supporters\"', 'url': 'https://en-volve.com/2021/01/29/doj-arrest-reports-reveal-capitol-riot-was-planned-almost-exclusively-on-facebook-twitter-and-youtube-yet-parler-was-shut-down-anyway/', 'created': 1612061373.0})]"
      ]
     },
     "execution_count": 3,
     "metadata": {},
     "output_type": "execute_result"
    }
   ],
   "source": [
    "import datetime as dt\n",
    "\n",
    "start_epoch=int(dt.datetime(2017, 1, 1).timestamp())\n",
    "\n",
    "list(api.search_submissions(after=start_epoch,\n",
    "                            subreddit='politics',\n",
    "                            filter=['url','author', 'title', 'subreddit'],\n",
    "                            limit=10))"
   ]
  },
  {
   "cell_type": "code",
   "execution_count": 25,
   "metadata": {},
   "outputs": [
    {
     "name": "stdout",
     "output_type": "stream",
     "text": [
      "[submission(author='Crazed_waffle_party', created_utc=1612084255, subreddit='wallstreetbets', title='Are you guys idiots? The sub has been brigaded by hedge funds?', url='https://www.reddit.com/r/wallstreetbets/comments/l98rqo/are_you_guys_idiots_the_sub_has_been_brigaded_by/', created=1612064455.0, d_={'author': 'Crazed_waffle_party', 'created_utc': 1612084255, 'subreddit': 'wallstreetbets', 'title': 'Are you guys idiots? The sub has been brigaded by hedge funds?', 'url': 'https://www.reddit.com/r/wallstreetbets/comments/l98rqo/are_you_guys_idiots_the_sub_has_been_brigaded_by/', 'created': 1612064455.0}), submission(author='Drahcir830', created_utc=1612084251, subreddit='wallstreetbets', title='Your Game Stops here!!', url='https://www.reddit.com/r/wallstreetbets/comments/l98rpt/your_game_stops_here/', created=1612064451.0, d_={'author': 'Drahcir830', 'created_utc': 1612084251, 'subreddit': 'wallstreetbets', 'title': 'Your Game Stops here!!', 'url': 'https://www.reddit.com/r/wallstreetbets/comments/l98rpt/your_game_stops_here/', 'created': 1612064451.0}), submission(author='TravellingGonzo', created_utc=1612084245, subreddit='wallstreetbets', title='u/DEEPFUCKINGVALUE dropping knowledge on the sub', url='https://i.redd.it/88sk141mwme61.png', created=1612064445.0, d_={'author': 'TravellingGonzo', 'created_utc': 1612084245, 'subreddit': 'wallstreetbets', 'title': 'u/DEEPFUCKINGVALUE dropping knowledge on the sub', 'url': 'https://i.redd.it/88sk141mwme61.png', 'created': 1612064445.0}), submission(author='GloriousDioxide', created_utc=1612084243, subreddit='wallstreetbets', title=\"They'll learn, give them time\", url='https://i.redd.it/cjgtrfvlwme61.jpg', created=1612064443.0, d_={'author': 'GloriousDioxide', 'created_utc': 1612084243, 'subreddit': 'wallstreetbets', 'title': \"They'll learn, give them time\", 'url': 'https://i.redd.it/cjgtrfvlwme61.jpg', 'created': 1612064443.0}), submission(author='ART_KH', created_utc=1612084240, subreddit='wallstreetbets', title='invest - stocks', url='https://www.reddit.com/r/wallstreetbets/comments/l98rn1/invest_stocks/', created=1612064440.0, d_={'author': 'ART_KH', 'created_utc': 1612084240, 'subreddit': 'wallstreetbets', 'title': 'invest - stocks', 'url': 'https://www.reddit.com/r/wallstreetbets/comments/l98rn1/invest_stocks/', 'created': 1612064440.0}), submission(author='danteheck97', created_utc=1612084235, subreddit='wallstreetbets', title='The Next Move', url='https://www.reddit.com/r/wallstreetbets/comments/l98rlu/the_next_move/', created=1612064435.0, d_={'author': 'danteheck97', 'created_utc': 1612084235, 'subreddit': 'wallstreetbets', 'title': 'The Next Move', 'url': 'https://www.reddit.com/r/wallstreetbets/comments/l98rlu/the_next_move/', 'created': 1612064435.0}), submission(author='bd981', created_utc=1612084229, subreddit='wallstreetbets', title='BEWARE OF THE TACTIC 2.0 🇺🇸GME AMC🚀', url='https://i.redd.it/6lsqrldkwme61.jpg', created=1612064429.0, d_={'author': 'bd981', 'created_utc': 1612084229, 'subreddit': 'wallstreetbets', 'title': 'BEWARE OF THE TACTIC 2.0 🇺🇸GME AMC🚀', 'url': 'https://i.redd.it/6lsqrldkwme61.jpg', 'created': 1612064429.0}), submission(author='npage34', created_utc=1612084224, subreddit='wallstreetbets', title='Reinforcements are Coming - KEEP HOLDING', url='https://www.reddit.com/r/wallstreetbets/comments/l98rip/reinforcements_are_coming_keep_holding/', created=1612064424.0, d_={'author': 'npage34', 'created_utc': 1612084224, 'subreddit': 'wallstreetbets', 'title': 'Reinforcements are Coming - KEEP HOLDING', 'url': 'https://www.reddit.com/r/wallstreetbets/comments/l98rip/reinforcements_are_coming_keep_holding/', 'created': 1612064424.0}), submission(author='bd981', created_utc=1612084221, subreddit='wallstreetbets', title='BEWARE OF THE TACTIC 2.0 🇺🇸🚀GME AMC🚀🇺🇸', url='https://i.redd.it/664yinjjwme61.jpg', created=1612064421.0, d_={'author': 'bd981', 'created_utc': 1612084221, 'subreddit': 'wallstreetbets', 'title': 'BEWARE OF THE TACTIC 2.0 🇺🇸🚀GME AMC🚀🇺🇸', 'url': 'https://i.redd.it/664yinjjwme61.jpg', 'created': 1612064421.0}), submission(author='arve666', created_utc=1612084221, subreddit='wallstreetbets', title='Help newbie', url='https://www.reddit.com/r/wallstreetbets/comments/l98rhn/help_newbie/', created=1612064421.0, d_={'author': 'arve666', 'created_utc': 1612084221, 'subreddit': 'wallstreetbets', 'title': 'Help newbie', 'url': 'https://www.reddit.com/r/wallstreetbets/comments/l98rhn/help_newbie/', 'created': 1612064421.0})]\n"
     ]
    },
    {
     "name": "stderr",
     "output_type": "stream",
     "text": [
      "C:\\Users\\Rajneesh\\anaconda3\\lib\\site-packages\\psaw\\PushshiftAPI.py:252: UserWarning: Not all PushShift shards are active. Query results may be incomplete\n",
      "  warnings.warn(shards_down_message)\n"
     ]
    }
   ],
   "source": [
    "from operator import itemgetter\n",
    "start_epoch=int(dt.datetime(2021, 1, 30).timestamp())\n",
    "\n",
    "sub1=list(api.search_submissions(after=start_epoch,\n",
    "                            subreddit='wallstreetbets',\n",
    "                            filter=['url','author', 'title', 'subreddit'],\n",
    "                            limit=10))\n",
    "print(sub)\n",
    "#res = list(map(itemgetter('d_'), sub)) \n",
    "#res = [ sub['gfg'] for sub in sub1 ]\n",
    "list_1=[]\n",
    "list_2=[]\n",
    "list_3=[]\n",
    "quotes=[]\n",
    "for row in sub1:\n",
    "    quote={}\n",
    "    quote['Name']=row[0]\n",
    "    quote['created_utc'] = row[1]\n",
    "    quote['subreddit']= row[2]\n",
    "    quote['title']=row[3]\n",
    "    quote['url']=row[4]\n",
    "    quote['created']=row[5]\n",
    "    #list_1['author'] \n",
    "    \n",
    "    quotes.append(quote)\n",
    "\n",
    "#for row in sub1:\n",
    "#    list_1.append(row[0])\n",
    "#    list_2.append(row[1])\n",
    "#    list_3.append(row[2])\n",
    "    "
   ]
  },
  {
   "cell_type": "code",
   "execution_count": 27,
   "metadata": {},
   "outputs": [
    {
     "data": {
      "text/plain": [
       "[{'Name': 'Crazed_waffle_party',\n",
       "  'created_utc': 1612084255,\n",
       "  'subreddit': 'wallstreetbets',\n",
       "  'title': 'Are you guys idiots? The sub has been brigaded by hedge funds?',\n",
       "  'url': 'https://www.reddit.com/r/wallstreetbets/comments/l98rqo/are_you_guys_idiots_the_sub_has_been_brigaded_by/',\n",
       "  'created': 1612064455.0},\n",
       " {'Name': 'Drahcir830',\n",
       "  'created_utc': 1612084251,\n",
       "  'subreddit': 'wallstreetbets',\n",
       "  'title': 'Your Game Stops here!!',\n",
       "  'url': 'https://www.reddit.com/r/wallstreetbets/comments/l98rpt/your_game_stops_here/',\n",
       "  'created': 1612064451.0},\n",
       " {'Name': 'TravellingGonzo',\n",
       "  'created_utc': 1612084245,\n",
       "  'subreddit': 'wallstreetbets',\n",
       "  'title': 'u/DEEPFUCKINGVALUE dropping knowledge on the sub',\n",
       "  'url': 'https://i.redd.it/88sk141mwme61.png',\n",
       "  'created': 1612064445.0},\n",
       " {'Name': 'GloriousDioxide',\n",
       "  'created_utc': 1612084243,\n",
       "  'subreddit': 'wallstreetbets',\n",
       "  'title': \"They'll learn, give them time\",\n",
       "  'url': 'https://i.redd.it/cjgtrfvlwme61.jpg',\n",
       "  'created': 1612064443.0},\n",
       " {'Name': 'ART_KH',\n",
       "  'created_utc': 1612084240,\n",
       "  'subreddit': 'wallstreetbets',\n",
       "  'title': 'invest - stocks',\n",
       "  'url': 'https://www.reddit.com/r/wallstreetbets/comments/l98rn1/invest_stocks/',\n",
       "  'created': 1612064440.0},\n",
       " {'Name': 'danteheck97',\n",
       "  'created_utc': 1612084235,\n",
       "  'subreddit': 'wallstreetbets',\n",
       "  'title': 'The Next Move',\n",
       "  'url': 'https://www.reddit.com/r/wallstreetbets/comments/l98rlu/the_next_move/',\n",
       "  'created': 1612064435.0},\n",
       " {'Name': 'bd981',\n",
       "  'created_utc': 1612084229,\n",
       "  'subreddit': 'wallstreetbets',\n",
       "  'title': 'BEWARE OF THE TACTIC 2.0 🇺🇸GME AMC🚀',\n",
       "  'url': 'https://i.redd.it/6lsqrldkwme61.jpg',\n",
       "  'created': 1612064429.0},\n",
       " {'Name': 'npage34',\n",
       "  'created_utc': 1612084224,\n",
       "  'subreddit': 'wallstreetbets',\n",
       "  'title': 'Reinforcements are Coming - KEEP HOLDING',\n",
       "  'url': 'https://www.reddit.com/r/wallstreetbets/comments/l98rip/reinforcements_are_coming_keep_holding/',\n",
       "  'created': 1612064424.0},\n",
       " {'Name': 'bd981',\n",
       "  'created_utc': 1612084221,\n",
       "  'subreddit': 'wallstreetbets',\n",
       "  'title': 'BEWARE OF THE TACTIC 2.0 🇺🇸🚀GME AMC🚀🇺🇸',\n",
       "  'url': 'https://i.redd.it/664yinjjwme61.jpg',\n",
       "  'created': 1612064421.0},\n",
       " {'Name': 'arve666',\n",
       "  'created_utc': 1612084221,\n",
       "  'subreddit': 'wallstreetbets',\n",
       "  'title': 'Help newbie',\n",
       "  'url': 'https://www.reddit.com/r/wallstreetbets/comments/l98rhn/help_newbie/',\n",
       "  'created': 1612064421.0}]"
      ]
     },
     "execution_count": 27,
     "metadata": {},
     "output_type": "execute_result"
    }
   ],
   "source": [
    "quotes"
   ]
  },
  {
   "cell_type": "code",
   "execution_count": 39,
   "metadata": {},
   "outputs": [],
   "source": [
    "import csv\n",
    "keys = quotes[0].keys()\n",
    "with open(r'G:\\krish-naik\\data_from_reddit\\reddit_wallstreetbets_2.csv', 'w', newline='',encoding=\"utf-8\")  as output_file:\n",
    "    dict_writer = csv.DictWriter(output_file, keys)\n",
    "    dict_writer.writeheader()\n",
    "    dict_writer.writerows(quotes)"
   ]
  },
  {
   "cell_type": "code",
   "execution_count": 32,
   "metadata": {},
   "outputs": [],
   "source": []
  },
  {
   "cell_type": "code",
   "execution_count": 38,
   "metadata": {},
   "outputs": [],
   "source": []
  },
  {
   "cell_type": "code",
   "execution_count": null,
   "metadata": {},
   "outputs": [],
   "source": []
  }
 ],
 "metadata": {
  "kernelspec": {
   "display_name": "Python 3",
   "language": "python",
   "name": "python3"
  },
  "language_info": {
   "codemirror_mode": {
    "name": "ipython",
    "version": 3
   },
   "file_extension": ".py",
   "mimetype": "text/x-python",
   "name": "python",
   "nbconvert_exporter": "python",
   "pygments_lexer": "ipython3",
   "version": "3.8.3"
  }
 },
 "nbformat": 4,
 "nbformat_minor": 4
}
